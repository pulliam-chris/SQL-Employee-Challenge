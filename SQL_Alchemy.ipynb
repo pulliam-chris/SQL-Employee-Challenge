{
 "cells": [
  {
   "cell_type": "code",
   "execution_count": 1,
   "id": "turned-palace",
   "metadata": {},
   "outputs": [],
   "source": [
    "import sqlalchemy\n",
    "import pandas as pd\n",
    "from sqlalchemy.ext.automap import automap_base\n",
    "from sqlalchemy.orm import Session\n",
    "from sqlalchemy import create_engine, inspect"
   ]
  },
  {
   "cell_type": "code",
   "execution_count": 2,
   "id": "angry-jamaica",
   "metadata": {},
   "outputs": [],
   "source": [
    "engine = create_engine('postgresql://<pg_user>:<pg_pw>@localhost:5432/EmployeeHW')\n",
    "connection = engine.connect()"
   ]
  },
  {
   "cell_type": "code",
   "execution_count": 3,
   "id": "confidential-trout",
   "metadata": {},
   "outputs": [],
   "source": [
    "# Create the inspector and connect it to the engine\n",
    "inspector = inspect(engine)"
   ]
  },
  {
   "cell_type": "code",
   "execution_count": 4,
   "id": "personal-mirror",
   "metadata": {},
   "outputs": [
    {
     "data": {
      "text/plain": [
       "['titles', 'employees', 'salaries', 'dept_emp', 'dept_mgr', 'departments']"
      ]
     },
     "execution_count": 4,
     "metadata": {},
     "output_type": "execute_result"
    }
   ],
   "source": [
    "# Collect the names of tables within the database\n",
    "inspector.get_table_names()"
   ]
  },
  {
   "cell_type": "code",
   "execution_count": 5,
   "id": "continued-waste",
   "metadata": {},
   "outputs": [
    {
     "data": {
      "text/plain": [
       "['titles', 'employees', 'salaries', 'departments', 'dept_mgr']"
      ]
     },
     "execution_count": 5,
     "metadata": {},
     "output_type": "execute_result"
    }
   ],
   "source": [
    "# Reflect Database into ORM classes\n",
    "Base = automap_base()\n",
    "Base.prepare(engine, reflect=True)\n",
    "Base.classes.keys()"
   ]
  },
  {
   "cell_type": "code",
   "execution_count": 8,
   "id": "quality-cornell",
   "metadata": {},
   "outputs": [],
   "source": [
    "# Create classes\n",
    "Titles = Base.classes.titles\n",
    "Employees = Base.classes.employees\n",
    "Salaries = Base.classes.salaries"
   ]
  },
  {
   "cell_type": "code",
   "execution_count": 9,
   "id": "written-noise",
   "metadata": {},
   "outputs": [],
   "source": [
    "# Create a session\n",
    "session = Session(engine)"
   ]
  },
  {
   "cell_type": "code",
   "execution_count": 16,
   "id": "minimal-leeds",
   "metadata": {},
   "outputs": [
    {
     "name": "stdout",
     "output_type": "stream",
     "text": [
      "id: 10001 title: Senior Engineer salary: $60117\n",
      "id: 10002 title: Staff salary: $65828\n",
      "id: 10003 title: Senior Engineer salary: $40006\n",
      "id: 10004 title: Senior Engineer salary: $40054\n",
      "id: 10005 title: Staff salary: $78228\n",
      "id: 10006 title: Senior Engineer salary: $40000\n",
      "id: 10007 title: Staff salary: $56724\n",
      "id: 10008 title: Assistant Engineer salary: $46671\n",
      "id: 10009 title: Senior Engineer salary: $60929\n",
      "id: 10010 title: Engineer salary: $72488\n",
      "id: 10011 title: Staff salary: $42365\n",
      "id: 10012 title: Senior Engineer salary: $40000\n",
      "id: 10013 title: Senior Staff salary: $40000\n",
      "id: 10014 title: Engineer salary: $46168\n",
      "id: 10015 title: Senior Staff salary: $40000\n",
      "id: 10016 title: Staff salary: $70889\n",
      "id: 10017 title: Staff salary: $71380\n",
      "id: 10018 title: Senior Engineer salary: $55881\n",
      "id: 10019 title: Staff salary: $44276\n",
      "id: 10020 title: Engineer salary: $40000\n",
      "id: 10021 title: Technique Leader salary: $55025\n",
      "id: 10022 title: Engineer salary: $40000\n",
      "id: 10023 title: Engineer salary: $47883\n",
      "id: 10024 title: Assistant Engineer salary: $83733\n",
      "id: 10025 title: Technique Leader salary: $40000\n",
      "id: 10026 title: Senior Engineer salary: $47585\n",
      "id: 10027 title: Senior Engineer salary: $40000\n",
      "id: 10028 title: Engineer salary: $48859\n",
      "id: 10029 title: Senior Engineer salary: $63163\n",
      "id: 10030 title: Senior Engineer salary: $66956\n",
      "id: 10031 title: Senior Engineer salary: $40000\n",
      "id: 10032 title: Senior Engineer salary: $48426\n",
      "id: 10033 title: Technique Leader salary: $51258\n",
      "id: 10034 title: Staff salary: $47561\n",
      "id: 10035 title: Senior Engineer salary: $41538\n",
      "id: 10036 title: Senior Staff salary: $42819\n",
      "id: 10037 title: Senior Engineer salary: $40000\n",
      "id: 10038 title: Staff salary: $40000\n",
      "id: 10039 title: Staff salary: $40000\n",
      "id: 10040 title: Senior Engineer salary: $52153\n",
      "id: 10041 title: Staff salary: $56893\n",
      "id: 10042 title: Staff salary: $81662\n",
      "id: 10043 title: Senior Engineer salary: $49324\n",
      "id: 10044 title: Technique Leader salary: $40919\n",
      "id: 10045 title: Engineer salary: $41971\n",
      "id: 10046 title: Staff salary: $40000\n",
      "id: 10047 title: Senior Engineer salary: $54982\n",
      "id: 10048 title: Engineer salary: $40000\n",
      "id: 10049 title: Staff salary: $40000\n",
      "id: 10050 title: Staff salary: $74366\n",
      "id: 10051 title: Senior Engineer salary: $48817\n",
      "id: 10052 title: Staff salary: $57212\n",
      "id: 10053 title: Senior Staff salary: $67854\n",
      "id: 10054 title: Staff salary: $40000\n",
      "id: 10055 title: Staff salary: $80024\n",
      "id: 10056 title: Senior Engineer salary: $48857\n",
      "id: 10057 title: Senior Engineer salary: $49616\n",
      "id: 10058 title: Senior Staff salary: $52787\n",
      "id: 10059 title: Senior Staff salary: $71218\n",
      "id: 10060 title: Staff salary: $74686\n",
      "id: 10061 title: Senior Staff salary: $68577\n",
      "id: 10062 title: Senior Engineer salary: $55685\n",
      "id: 10063 title: Senior Engineer salary: $40000\n",
      "id: 10064 title: Staff salary: $40000\n",
      "id: 10065 title: Engineer salary: $40000\n",
      "id: 10066 title: Senior Engineer salary: $69736\n",
      "id: 10067 title: Senior Engineer salary: $44642\n",
      "id: 10068 title: Staff salary: $87964\n",
      "id: 10069 title: Technique Leader salary: $67932\n",
      "id: 10070 title: Technique Leader salary: $55999\n",
      "id: 10071 title: Staff salary: $40000\n",
      "id: 10072 title: Senior Engineer salary: $40000\n",
      "id: 10073 title: Engineer salary: $56473\n",
      "id: 10074 title: Technique Leader salary: $61714\n",
      "id: 10075 title: Senior Engineer salary: $43815\n",
      "id: 10076 title: Senior Engineer salary: $47319\n",
      "id: 10077 title: Staff salary: $40000\n",
      "id: 10078 title: Engineer salary: $47280\n",
      "id: 10079 title: Technique Leader salary: $53492\n",
      "id: 10080 title: Staff salary: $54916\n",
      "id: 10081 title: Senior Engineer salary: $55786\n",
      "id: 10082 title: Staff salary: $48935\n",
      "id: 10083 title: Senior Engineer salary: $40000\n",
      "id: 10084 title: Senior Engineer salary: $69811\n",
      "id: 10085 title: Senior Engineer salary: $40000\n",
      "id: 10086 title: Staff salary: $81613\n",
      "id: 10087 title: Staff salary: $96750\n",
      "id: 10088 title: Staff salary: $65957\n",
      "id: 10089 title: Staff salary: $56469\n",
      "id: 10090 title: Senior Engineer salary: $44978\n",
      "id: 10091 title: Senior Engineer salary: $40000\n",
      "id: 10092 title: Engineer salary: $53977\n",
      "id: 10093 title: Staff salary: $67856\n",
      "id: 10094 title: Senior Staff salary: $58001\n",
      "id: 10095 title: Staff salary: $63668\n",
      "id: 10096 title: Engineer salary: $61395\n",
      "id: 10097 title: Staff salary: $44886\n",
      "id: 10098 title: Senior Engineer salary: $40000\n",
      "id: 10099 title: Staff salary: $68781\n",
      "id: 10100 title: Staff salary: $54398\n"
     ]
    }
   ],
   "source": [
    "emps = session.query(Employees, Titles, Salaries).filter(Employees.emp_title_id == Titles.title_id).filter(Employees.emp_no == Salaries.emp_no).limit(100).all()\n",
    "\n",
    "for record in emps:\n",
    "    (id, title, salary) = record\n",
    "    print(f\"id: {id.emp_no} title: {title.title} salary: ${salary.salary}\")"
   ]
  },
  {
   "cell_type": "code",
   "execution_count": 17,
   "id": "foster-pearl",
   "metadata": {},
   "outputs": [
    {
     "ename": "TypeError",
     "evalue": "Can only merge Series or DataFrame objects, a <class 'sqlalchemy.ext.declarative.api.DeclarativeMeta'> was passed",
     "output_type": "error",
     "traceback": [
      "\u001b[1;31m---------------------------------------------------------------------------\u001b[0m",
      "\u001b[1;31mTypeError\u001b[0m                                 Traceback (most recent call last)",
      "\u001b[1;32m<ipython-input-17-bab8fdb1cb19>\u001b[0m in \u001b[0;36m<module>\u001b[1;34m()\u001b[0m\n\u001b[0;32m      1\u001b[0m \u001b[1;31m# Merge the columns\u001b[0m\u001b[1;33m\u001b[0m\u001b[1;33m\u001b[0m\u001b[1;33m\u001b[0m\u001b[0m\n\u001b[1;32m----> 2\u001b[1;33m \u001b[0mcombined_data\u001b[0m \u001b[1;33m=\u001b[0m \u001b[0mpd\u001b[0m\u001b[1;33m.\u001b[0m\u001b[0mmerge\u001b[0m\u001b[1;33m(\u001b[0m\u001b[0mEmployees\u001b[0m\u001b[1;33m,\u001b[0m \u001b[0mTitles\u001b[0m \u001b[1;33m,\u001b[0m \u001b[0mon\u001b[0m\u001b[1;33m=\u001b[0m\u001b[1;34m\"emp_no\"\u001b[0m\u001b[1;33m,\u001b[0m \u001b[0mhow\u001b[0m\u001b[1;33m=\u001b[0m\u001b[1;34m\"inner\"\u001b[0m\u001b[1;33m)\u001b[0m\u001b[1;33m\u001b[0m\u001b[1;33m\u001b[0m\u001b[0m\n\u001b[0m\u001b[0;32m      3\u001b[0m \u001b[0mcombined_data\u001b[0m \u001b[1;33m=\u001b[0m \u001b[0mpd\u001b[0m\u001b[1;33m.\u001b[0m\u001b[0mmerge\u001b[0m\u001b[1;33m(\u001b[0m\u001b[0mcombined_data\u001b[0m\u001b[1;33m,\u001b[0m \u001b[0mSalaries\u001b[0m\u001b[1;33m,\u001b[0m \u001b[0mon\u001b[0m\u001b[1;33m=\u001b[0m\u001b[1;34m\"emp_no\"\u001b[0m\u001b[1;33m,\u001b[0m \u001b[0mhow\u001b[0m\u001b[1;33m=\u001b[0m\u001b[1;34m\"inner\"\u001b[0m\u001b[1;33m)\u001b[0m\u001b[1;33m\u001b[0m\u001b[1;33m\u001b[0m\u001b[0m\n\u001b[0;32m      4\u001b[0m \u001b[0mcombined_data\u001b[0m\u001b[1;33m\u001b[0m\u001b[1;33m\u001b[0m\u001b[0m\n",
      "\u001b[1;32mC:\\Users\\mrpar\\.conda\\envs\\PythonData\\lib\\site-packages\\pandas\\core\\reshape\\merge.py\u001b[0m in \u001b[0;36mmerge\u001b[1;34m(left, right, how, on, left_on, right_on, left_index, right_index, sort, suffixes, copy, indicator, validate)\u001b[0m\n\u001b[0;32m     84\u001b[0m         \u001b[0mcopy\u001b[0m\u001b[1;33m=\u001b[0m\u001b[0mcopy\u001b[0m\u001b[1;33m,\u001b[0m\u001b[1;33m\u001b[0m\u001b[1;33m\u001b[0m\u001b[0m\n\u001b[0;32m     85\u001b[0m         \u001b[0mindicator\u001b[0m\u001b[1;33m=\u001b[0m\u001b[0mindicator\u001b[0m\u001b[1;33m,\u001b[0m\u001b[1;33m\u001b[0m\u001b[1;33m\u001b[0m\u001b[0m\n\u001b[1;32m---> 86\u001b[1;33m         \u001b[0mvalidate\u001b[0m\u001b[1;33m=\u001b[0m\u001b[0mvalidate\u001b[0m\u001b[1;33m,\u001b[0m\u001b[1;33m\u001b[0m\u001b[1;33m\u001b[0m\u001b[0m\n\u001b[0m\u001b[0;32m     87\u001b[0m     )\n\u001b[0;32m     88\u001b[0m     \u001b[1;32mreturn\u001b[0m \u001b[0mop\u001b[0m\u001b[1;33m.\u001b[0m\u001b[0mget_result\u001b[0m\u001b[1;33m(\u001b[0m\u001b[1;33m)\u001b[0m\u001b[1;33m\u001b[0m\u001b[1;33m\u001b[0m\u001b[0m\n",
      "\u001b[1;32mC:\\Users\\mrpar\\.conda\\envs\\PythonData\\lib\\site-packages\\pandas\\core\\reshape\\merge.py\u001b[0m in \u001b[0;36m__init__\u001b[1;34m(self, left, right, how, on, left_on, right_on, axis, left_index, right_index, sort, suffixes, copy, indicator, validate)\u001b[0m\n\u001b[0;32m    569\u001b[0m         \u001b[0mvalidate\u001b[0m\u001b[1;33m=\u001b[0m\u001b[1;32mNone\u001b[0m\u001b[1;33m,\u001b[0m\u001b[1;33m\u001b[0m\u001b[1;33m\u001b[0m\u001b[0m\n\u001b[0;32m    570\u001b[0m     ):\n\u001b[1;32m--> 571\u001b[1;33m         \u001b[0m_left\u001b[0m \u001b[1;33m=\u001b[0m \u001b[0m_validate_operand\u001b[0m\u001b[1;33m(\u001b[0m\u001b[0mleft\u001b[0m\u001b[1;33m)\u001b[0m\u001b[1;33m\u001b[0m\u001b[1;33m\u001b[0m\u001b[0m\n\u001b[0m\u001b[0;32m    572\u001b[0m         \u001b[0m_right\u001b[0m \u001b[1;33m=\u001b[0m \u001b[0m_validate_operand\u001b[0m\u001b[1;33m(\u001b[0m\u001b[0mright\u001b[0m\u001b[1;33m)\u001b[0m\u001b[1;33m\u001b[0m\u001b[1;33m\u001b[0m\u001b[0m\n\u001b[0;32m    573\u001b[0m         \u001b[0mself\u001b[0m\u001b[1;33m.\u001b[0m\u001b[0mleft\u001b[0m \u001b[1;33m=\u001b[0m \u001b[0mself\u001b[0m\u001b[1;33m.\u001b[0m\u001b[0morig_left\u001b[0m \u001b[1;33m=\u001b[0m \u001b[0m_left\u001b[0m\u001b[1;33m\u001b[0m\u001b[1;33m\u001b[0m\u001b[0m\n",
      "\u001b[1;32mC:\\Users\\mrpar\\.conda\\envs\\PythonData\\lib\\site-packages\\pandas\\core\\reshape\\merge.py\u001b[0m in \u001b[0;36m_validate_operand\u001b[1;34m(obj)\u001b[0m\n\u001b[0;32m   2006\u001b[0m         raise TypeError(\n\u001b[0;32m   2007\u001b[0m             \u001b[1;34m\"Can only merge Series or DataFrame objects, \"\u001b[0m\u001b[1;33m\u001b[0m\u001b[1;33m\u001b[0m\u001b[0m\n\u001b[1;32m-> 2008\u001b[1;33m             \u001b[1;34m\"a {obj} was passed\"\u001b[0m\u001b[1;33m.\u001b[0m\u001b[0mformat\u001b[0m\u001b[1;33m(\u001b[0m\u001b[0mobj\u001b[0m\u001b[1;33m=\u001b[0m\u001b[0mtype\u001b[0m\u001b[1;33m(\u001b[0m\u001b[0mobj\u001b[0m\u001b[1;33m)\u001b[0m\u001b[1;33m)\u001b[0m\u001b[1;33m\u001b[0m\u001b[1;33m\u001b[0m\u001b[0m\n\u001b[0m\u001b[0;32m   2009\u001b[0m         )\n\u001b[0;32m   2010\u001b[0m \u001b[1;33m\u001b[0m\u001b[0m\n",
      "\u001b[1;31mTypeError\u001b[0m: Can only merge Series or DataFrame objects, a <class 'sqlalchemy.ext.declarative.api.DeclarativeMeta'> was passed"
     ]
    }
   ],
   "source": [
    "# Merge the columns (Must be declaritive)\n",
    "combined_data = pd.merge(Employees, Titles , on=\"emp_no\", how=\"inner\")\n",
    "combined_data = pd.merge(combined_data, Salaries, on=\"emp_no\", how=\"inner\")\n",
    "combined_data"
   ]
  },
  {
   "cell_type": "code",
   "execution_count": 13,
   "id": "atmospheric-cartridge",
   "metadata": {},
   "outputs": [
    {
     "name": "stdout",
     "output_type": "stream",
     "text": [
      "My ID#: 499942 My Name: April Foolsday\n"
     ]
    }
   ],
   "source": [
    "#Epilogue, query Employee ID 499942\n",
    "me = session.query(Employees).filter(Employees.emp_no == 499942)\n",
    "\n",
    "for record in me:\n",
    "    (id) = record\n",
    "    print(f\"My ID#: {id.emp_no} My Name: {id.first_name} {id.last_name}\")"
   ]
  },
  {
   "cell_type": "code",
   "execution_count": null,
   "id": "associate-kruger",
   "metadata": {},
   "outputs": [],
   "source": []
  }
 ],
 "metadata": {
  "kernelspec": {
   "display_name": "Python 3",
   "language": "python",
   "name": "python3"
  },
  "language_info": {
   "codemirror_mode": {
    "name": "ipython",
    "version": 3
   },
   "file_extension": ".py",
   "mimetype": "text/x-python",
   "name": "python",
   "nbconvert_exporter": "python",
   "pygments_lexer": "ipython3",
   "version": "3.6.10"
  }
 },
 "nbformat": 4,
 "nbformat_minor": 5
}
