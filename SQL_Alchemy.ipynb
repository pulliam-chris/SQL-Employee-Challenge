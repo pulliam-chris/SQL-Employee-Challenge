{
 "cells": [
  {
   "cell_type": "code",
   "execution_count": 1,
   "id": "turned-palace",
   "metadata": {},
   "outputs": [],
   "source": [
    "import sqlalchemy\n",
    "from sqlalchemy.ext.automap import automap_base\n",
    "from sqlalchemy.orm import Session\n",
    "from sqlalchemy import create_engine, inspect\n",
    "\n",
    "import pandas as pd"
   ]
  },
  {
   "cell_type": "code",
   "execution_count": 2,
   "id": "angry-jamaica",
   "metadata": {},
   "outputs": [],
   "source": [
    "# Create engine to created local DB\n",
    "engine = create_engine('postgresql://<pg_user>:<pg_password>@localhost:5432/EmployeeHW')\n",
    "connection = engine.connect()"
   ]
  },
  {
   "cell_type": "code",
   "execution_count": 5,
   "id": "continued-waste",
   "metadata": {},
   "outputs": [
    {
     "data": {
      "text/plain": [
       "['titles', 'employees', 'salaries', 'departments', 'dept_mgr']"
      ]
     },
     "execution_count": 5,
     "metadata": {},
     "output_type": "execute_result"
    }
   ],
   "source": [
    "# Reflect Database into ORM classes\n",
    "Base = automap_base()\n",
    "Base.prepare(engine, reflect=True)\n",
    "Base.classes.keys()"
   ]
  },
  {
   "cell_type": "code",
   "execution_count": 6,
   "id": "quality-cornell",
   "metadata": {},
   "outputs": [],
   "source": [
    "# Create classes\n",
    "Titles = Base.classes.titles\n",
    "Employees = Base.classes.employees\n",
    "Salaries = Base.classes.salaries"
   ]
  },
  {
   "cell_type": "code",
   "execution_count": 7,
   "id": "written-noise",
   "metadata": {},
   "outputs": [],
   "source": [
    "# Create a session\n",
    "session = Session(engine)"
   ]
  },
  {
   "cell_type": "code",
   "execution_count": 8,
   "id": "minimal-leeds",
   "metadata": {},
   "outputs": [],
   "source": [
    "# Query the database making necessary joins\n",
    "emps = session.query(Employees, Salaries, Titles).filter(Employees.emp_no == Salaries.emp_no).filter(Employees.emp_title_id == Titles.title_id).all()"
   ]
  },
  {
   "cell_type": "code",
   "execution_count": 13,
   "id": "overhead-pregnancy",
   "metadata": {},
   "outputs": [
    {
     "data": {
      "text/html": [
       "<div>\n",
       "<style scoped>\n",
       "    .dataframe tbody tr th:only-of-type {\n",
       "        vertical-align: middle;\n",
       "    }\n",
       "\n",
       "    .dataframe tbody tr th {\n",
       "        vertical-align: top;\n",
       "    }\n",
       "\n",
       "    .dataframe thead th {\n",
       "        text-align: right;\n",
       "    }\n",
       "</style>\n",
       "<table border=\"1\" class=\"dataframe\">\n",
       "  <thead>\n",
       "    <tr style=\"text-align: right;\">\n",
       "      <th></th>\n",
       "      <th>id</th>\n",
       "      <th>salary</th>\n",
       "      <th>title</th>\n",
       "    </tr>\n",
       "  </thead>\n",
       "  <tbody>\n",
       "    <tr>\n",
       "      <th>0</th>\n",
       "      <td>57444</td>\n",
       "      <td>48973</td>\n",
       "      <td>Engineer</td>\n",
       "    </tr>\n",
       "    <tr>\n",
       "      <th>1</th>\n",
       "      <td>13616</td>\n",
       "      <td>40000</td>\n",
       "      <td>Senior Engineer</td>\n",
       "    </tr>\n",
       "    <tr>\n",
       "      <th>2</th>\n",
       "      <td>240129</td>\n",
       "      <td>43548</td>\n",
       "      <td>Technique Leader</td>\n",
       "    </tr>\n",
       "    <tr>\n",
       "      <th>3</th>\n",
       "      <td>427958</td>\n",
       "      <td>63377</td>\n",
       "      <td>Staff</td>\n",
       "    </tr>\n",
       "    <tr>\n",
       "      <th>4</th>\n",
       "      <td>35916</td>\n",
       "      <td>40000</td>\n",
       "      <td>Senior Engineer</td>\n",
       "    </tr>\n",
       "    <tr>\n",
       "      <th>...</th>\n",
       "      <td>...</td>\n",
       "      <td>...</td>\n",
       "      <td>...</td>\n",
       "    </tr>\n",
       "    <tr>\n",
       "      <th>300019</th>\n",
       "      <td>222402</td>\n",
       "      <td>40000</td>\n",
       "      <td>Staff</td>\n",
       "    </tr>\n",
       "    <tr>\n",
       "      <th>300020</th>\n",
       "      <td>70921</td>\n",
       "      <td>40000</td>\n",
       "      <td>Technique Leader</td>\n",
       "    </tr>\n",
       "    <tr>\n",
       "      <th>300021</th>\n",
       "      <td>275129</td>\n",
       "      <td>59703</td>\n",
       "      <td>Senior Engineer</td>\n",
       "    </tr>\n",
       "    <tr>\n",
       "      <th>300022</th>\n",
       "      <td>202478</td>\n",
       "      <td>48038</td>\n",
       "      <td>Senior Engineer</td>\n",
       "    </tr>\n",
       "    <tr>\n",
       "      <th>300023</th>\n",
       "      <td>81057</td>\n",
       "      <td>40000</td>\n",
       "      <td>Senior Engineer</td>\n",
       "    </tr>\n",
       "  </tbody>\n",
       "</table>\n",
       "<p>300024 rows × 3 columns</p>\n",
       "</div>"
      ],
      "text/plain": [
       "            id salary             title\n",
       "0        57444  48973          Engineer\n",
       "1        13616  40000   Senior Engineer\n",
       "2       240129  43548  Technique Leader\n",
       "3       427958  63377             Staff\n",
       "4        35916  40000   Senior Engineer\n",
       "...        ...    ...               ...\n",
       "300019  222402  40000             Staff\n",
       "300020   70921  40000  Technique Leader\n",
       "300021  275129  59703   Senior Engineer\n",
       "300022  202478  48038   Senior Engineer\n",
       "300023   81057  40000   Senior Engineer\n",
       "\n",
       "[300024 rows x 3 columns]"
      ]
     },
     "execution_count": 13,
     "metadata": {},
     "output_type": "execute_result"
    }
   ],
   "source": [
    "# Load the results into a pandas dataframe\n",
    "df = pd.DataFrame(columns=['id', 'salary','title'])\n",
    "\n",
    "# Takes a while to run and create assembled DF\n",
    "for record in emps:\n",
    "    (id, salary, title) = record\n",
    "    adds = pd.DataFrame([[id.emp_no, salary.salary ,title.title]], columns=['id', 'salary', 'title'])\n",
    "    adds.dropna()\n",
    "    df = df.append(adds,ignore_index=True)\n",
    "    \n",
    "df"
   ]
  },
  {
   "cell_type": "code",
   "execution_count": 191,
   "id": "statistical-school",
   "metadata": {},
   "outputs": [],
   "source": [
    "# End session\n",
    "session.close()"
   ]
  },
  {
   "cell_type": "code",
   "execution_count": 122,
   "id": "protecting-research",
   "metadata": {},
   "outputs": [
    {
     "data": {
      "text/html": [
       "<div>\n",
       "<style scoped>\n",
       "    .dataframe tbody tr th:only-of-type {\n",
       "        vertical-align: middle;\n",
       "    }\n",
       "\n",
       "    .dataframe tbody tr th {\n",
       "        vertical-align: top;\n",
       "    }\n",
       "\n",
       "    .dataframe thead th {\n",
       "        text-align: right;\n",
       "    }\n",
       "</style>\n",
       "<table border=\"1\" class=\"dataframe\">\n",
       "  <thead>\n",
       "    <tr style=\"text-align: right;\">\n",
       "      <th></th>\n",
       "      <th>Avg Salary</th>\n",
       "    </tr>\n",
       "    <tr>\n",
       "      <th>title</th>\n",
       "      <th></th>\n",
       "    </tr>\n",
       "  </thead>\n",
       "  <tbody>\n",
       "    <tr>\n",
       "      <th>Assistant Engineer</th>\n",
       "      <td>48564.43</td>\n",
       "    </tr>\n",
       "    <tr>\n",
       "      <th>Engineer</th>\n",
       "      <td>48535.34</td>\n",
       "    </tr>\n",
       "    <tr>\n",
       "      <th>Manager</th>\n",
       "      <td>51531.04</td>\n",
       "    </tr>\n",
       "    <tr>\n",
       "      <th>Senior Engineer</th>\n",
       "      <td>48506.80</td>\n",
       "    </tr>\n",
       "    <tr>\n",
       "      <th>Senior Staff</th>\n",
       "      <td>58550.17</td>\n",
       "    </tr>\n",
       "    <tr>\n",
       "      <th>Staff</th>\n",
       "      <td>58465.38</td>\n",
       "    </tr>\n",
       "    <tr>\n",
       "      <th>Technique Leader</th>\n",
       "      <td>48582.90</td>\n",
       "    </tr>\n",
       "  </tbody>\n",
       "</table>\n",
       "</div>"
      ],
      "text/plain": [
       "                    Avg Salary\n",
       "title                         \n",
       "Assistant Engineer    48564.43\n",
       "Engineer              48535.34\n",
       "Manager               51531.04\n",
       "Senior Engineer       48506.80\n",
       "Senior Staff          58550.17\n",
       "Staff                 58465.38\n",
       "Technique Leader      48582.90"
      ]
     },
     "execution_count": 122,
     "metadata": {},
     "output_type": "execute_result"
    }
   ],
   "source": [
    "# Group by Employee title for calculating average salary\n",
    "bytitle = df\n",
    "bytitle = bytitle.dropna()\n",
    "# Type cast salary column as numeric\n",
    "bytitle = bytitle.astype({'salary': 'int64'})\n",
    "bytitle = bytitle.groupby('title')\n",
    "\n",
    "avg_salary = round(bytitle['salary'].mean(),2)\n",
    "\n",
    "summary_df = pd.DataFrame({\"Avg Salary\": avg_salary})\n",
    "summary_df"
   ]
  },
  {
   "cell_type": "code",
   "execution_count": 128,
   "id": "radical-regular",
   "metadata": {},
   "outputs": [
    {
     "data": {
      "text/plain": [
       "<matplotlib.axes._subplots.AxesSubplot at 0x28771099b38>"
      ]
     },
     "execution_count": 128,
     "metadata": {},
     "output_type": "execute_result"
    },
    {
     "data": {
      "image/png": "[encoded data removed]",
      "text/plain": [
       "<Figure size 432x288 with 1 Axes>"
      ]
     },
     "metadata": {
      "needs_background": "light"
     },
     "output_type": "display_data"
    }
   ],
   "source": [
    "# Create a bar chart of average salary by title using summary dataframe\n",
    "ylim = [40000,60000]\n",
    "salary_plot = summary_df.plot(kind=\"bar\",title=\"Average Salary by Title\",ylim = ylim, rot=45,color='green',legend=False)\n",
    "salary_plot.set_xlabel(\"Job Title\")\n",
    "salary_plot.set_ylabel(\"Average Salary ($)\")\n",
    "salary_plot"
   ]
  },
  {
   "cell_type": "code",
   "execution_count": 185,
   "id": "sharp-kentucky",
   "metadata": {},
   "outputs": [
    {
     "data": {
      "text/plain": [
       "Salary Bins\n",
       "<$45k         126277\n",
       "$45k-$60k      90112\n",
       "$60k-$80k      66219\n",
       "$80k-$200k     17416\n",
       "Name: Salary Bins, dtype: int64"
      ]
     },
     "execution_count": 185,
     "metadata": {},
     "output_type": "execute_result"
    }
   ],
   "source": [
    "# Create a plot to visualize the most common salary ranges for employees.\n",
    "\n",
    "# Bins are (0, 45000),(45001, 60000), (60001, 80000), (80001,200000)).   \n",
    "salary_bins = [0, 45000, 60000, 80000, 200000]\n",
    "\n",
    "# Create the names for the four bins\n",
    "salary_group_names = [\"<$45k\", \"$45k-$60k\", \"$60k-$80k\", \"$80k-$200k\"]\n",
    "\n",
    "#Use data frame for the bins and convert salary to numeric\n",
    "salary_bins_df = df\n",
    "salary_bins_df = salary_bins_df.astype({'salary': 'int64'})\n",
    "\n",
    "#Set bins\n",
    "salary_bins_df['Salary Bins'] = pd.cut(salary_bins_df['salary'], salary_bins, labels=salary_group_names, include_lowest=True)\n",
    "#Group by new bin column\n",
    "salary_bins_df = salary_bins_df.groupby(['Salary Bins'])\n",
    "\n",
    "#Use count function to calculate bin values\n",
    "bins = salary_bins_df['Salary Bins'].count()\n",
    "bins"
   ]
  },
  {
   "cell_type": "code",
   "execution_count": 190,
   "id": "operational-madagascar",
   "metadata": {},
   "outputs": [
    {
     "data": {
      "text/plain": [
       "Text(0, 0.5, '')"
      ]
     },
     "execution_count": 190,
     "metadata": {},
     "output_type": "execute_result"
    },
    {
     "data": {
      "image/png": "[encoded data removed]",
      "text/plain": [
       "<Figure size 432x288 with 1 Axes>"
      ]
     },
     "metadata": {},
     "output_type": "display_data"
    }
   ],
   "source": [
    "# Use series to plot\n",
    "bin_plot = bins.plot(kind=\"pie\", title=\"Salary Group Breakdown\")\n",
    "bin_plot.set_ylabel(\"\")"
   ]
  },
  {
   "cell_type": "code",
   "execution_count": 13,
   "id": "atmospheric-cartridge",
   "metadata": {},
   "outputs": [
    {
     "name": "stdout",
     "output_type": "stream",
     "text": [
      "My ID#: 499942 My Name: April Foolsday\n"
     ]
    }
   ],
   "source": [
    "# Epilogue, query Employee ID 499942\n",
    "me = session.query(Employees).filter(Employees.emp_no == 499942)\n",
    "\n",
    "for record in me:\n",
    "    (id) = record\n",
    "    print(f\"My ID#: {id.emp_no} My Name: {id.first_name} {id.last_name}\")"
   ]
  }
 ],
 "metadata": {
  "kernelspec": {
   "display_name": "Python 3",
   "language": "python",
   "name": "python3"
  },
  "language_info": {
   "codemirror_mode": {
    "name": "ipython",
    "version": 3
   },
   "file_extension": ".py",
   "mimetype": "text/x-python",
   "name": "python",
   "nbconvert_exporter": "python",
   "pygments_lexer": "ipython3",
   "version": "3.6.10"
  }
 },
 "nbformat": 4,
 "nbformat_minor": 5
}
